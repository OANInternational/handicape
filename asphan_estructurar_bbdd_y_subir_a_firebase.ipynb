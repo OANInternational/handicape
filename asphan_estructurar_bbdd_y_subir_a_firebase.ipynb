{
  "nbformat": 4,
  "nbformat_minor": 0,
  "metadata": {
    "colab": {
      "name": "asphan_estructurar_bbdd_y_subir_a_firebase.ipynb",
      "version": "0.3.2",
      "provenance": [],
      "collapsed_sections": [],
      "include_colab_link": true
    },
    "language_info": {
      "codemirror_mode": {
        "name": "ipython",
        "version": 3
      },
      "file_extension": ".py",
      "mimetype": "text/x-python",
      "name": "python",
      "nbconvert_exporter": "python",
      "pygments_lexer": "ipython3",
      "version": "3.7.3"
    },
    "kernelspec": {
      "name": "python3",
      "display_name": "Python 3"
    },
    "accelerator": "GPU"
  },
  "cells": [
    {
      "cell_type": "markdown",
      "metadata": {
        "id": "view-in-github",
        "colab_type": "text"
      },
      "source": [
        "<a href=\"https://colab.research.google.com/github/OANInternational/handicape/blob/master/asphan_estructurar_bbdd_y_subir_a_firebase.ipynb\" target=\"_parent\"><img src=\"https://colab.research.google.com/assets/colab-badge.svg\" alt=\"Open In Colab\"/></a>"
      ]
    },
    {
      "cell_type": "markdown",
      "metadata": {
        "id": "Ym3RvFva0G5q",
        "colab_type": "text"
      },
      "source": [
        "Proyecto para estructurar base de datos y subir a FIRBASE"
      ]
    },
    {
      "cell_type": "markdown",
      "metadata": {
        "id": "rgQcFZkGZhWF",
        "colab_type": "text"
      },
      "source": [
        "# INTSTALS"
      ]
    },
    {
      "cell_type": "code",
      "metadata": {
        "id": "qlU4ZVqQ4gib",
        "colab_type": "code",
        "colab": {}
      },
      "source": [
        "#!pip install firebase-admin\n",
        "#!pip install geocoder\n",
        "#!pip install fuzzywuzzy[speedup]"
      ],
      "execution_count": 0,
      "outputs": []
    },
    {
      "cell_type": "markdown",
      "metadata": {
        "id": "F9UYXCg7mf0w",
        "colab_type": "text"
      },
      "source": [
        "# DIRECTORIO"
      ]
    },
    {
      "cell_type": "markdown",
      "metadata": {
        "id": "yK41IOyZN6M9",
        "colab_type": "text"
      },
      "source": [
        "utilizar google como directorio de trabajo\n"
      ]
    },
    {
      "cell_type": "code",
      "metadata": {
        "id": "PB9QEH1ljfSa",
        "colab_type": "code",
        "outputId": "552506a7-857a-4eb4-a1f6-2803aed1a7aa",
        "colab": {
          "base_uri": "https://localhost:8080/",
          "height": 34
        }
      },
      "source": [
        "%cd"
      ],
      "execution_count": 4,
      "outputs": [
        {
          "output_type": "stream",
          "text": [
            "/root\n"
          ],
          "name": "stdout"
        }
      ]
    },
    {
      "cell_type": "code",
      "metadata": {
        "id": "BZ-Mi5uM6Ywq",
        "colab_type": "code",
        "outputId": "85ab08bc-9c3a-4b13-d0af-2dc8ed87f77b",
        "colab": {
          "base_uri": "https://localhost:8080/",
          "height": 70
        }
      },
      "source": [
        "%cd\n",
        "%cd ..\n",
        "%cd content"
      ],
      "execution_count": 5,
      "outputs": [
        {
          "output_type": "stream",
          "text": [
            "/root\n",
            "/\n",
            "/content\n"
          ],
          "name": "stdout"
        }
      ]
    },
    {
      "cell_type": "code",
      "metadata": {
        "id": "8DJBx357k1kw",
        "colab_type": "code",
        "outputId": "8657a7b9-a93c-4b2b-ec62-dd6c31102431",
        "colab": {
          "base_uri": "https://localhost:8080/",
          "height": 34
        }
      },
      "source": [
        "from google.colab import drive\n",
        "drive.mount('/content/drive')"
      ],
      "execution_count": 6,
      "outputs": [
        {
          "output_type": "stream",
          "text": [
            "Drive already mounted at /content/drive; to attempt to forcibly remount, call drive.mount(\"/content/drive\", force_remount=True).\n"
          ],
          "name": "stdout"
        }
      ]
    },
    {
      "cell_type": "code",
      "metadata": {
        "id": "YLlHkfPNlSv1",
        "colab_type": "code",
        "outputId": "14df68de-1563-4b79-99eb-e8e5ef2827e6",
        "colab": {
          "base_uri": "https://localhost:8080/",
          "height": 34
        }
      },
      "source": [
        "%cd drive/'Shared drives'/'C. Políticas Sociales'/'PROYECTOS'/'Handicapées'"
      ],
      "execution_count": 7,
      "outputs": [
        {
          "output_type": "stream",
          "text": [
            "/content/drive/Shared drives/C. Políticas Sociales/PROYECTOS/Handicapées\n"
          ],
          "name": "stdout"
        }
      ]
    },
    {
      "cell_type": "code",
      "metadata": {
        "id": "9KAdA-R8xKw5",
        "colab_type": "code",
        "colab": {}
      },
      "source": [
        "import yaml\n",
        "spreadsheet_ids = yaml.load( open(\"ASPHAN-APP/sheets_parameters.yaml\", \"r\" ))\n",
        "#recensement de personnes handicapées\n",
        "ID=str(spreadsheet_ids['ID'])\n"
      ],
      "execution_count": 0,
      "outputs": []
    },
    {
      "cell_type": "markdown",
      "metadata": {
        "id": "iA76tKgbnBvj",
        "colab_type": "text"
      },
      "source": [
        "# CONNECT TO FIREBASE"
      ]
    },
    {
      "cell_type": "code",
      "metadata": {
        "id": "6pIrQEso408R",
        "colab_type": "code",
        "colab": {}
      },
      "source": [
        "filename='ASPHAN-APP/firebase_parameters.json'"
      ],
      "execution_count": 0,
      "outputs": []
    },
    {
      "cell_type": "code",
      "metadata": {
        "id": "j0-CWZv25YWX",
        "colab_type": "code",
        "colab": {}
      },
      "source": [
        "import firebase_admin\n",
        "from firebase_admin import credentials\n",
        "from firebase_admin import firestore\n",
        "from firebase_admin import storage\n",
        "\n",
        "# Use a service account\n",
        "cred = credentials.Certificate(filename)\n",
        "firebase_admin.initialize_app(cred)\n",
        "\n",
        "db = firestore.client()"
      ],
      "execution_count": 0,
      "outputs": []
    },
    {
      "cell_type": "markdown",
      "metadata": {
        "id": "RtjMV_OZ_bPM",
        "colab_type": "text"
      },
      "source": [
        "# ABRIR LAS BBDD"
      ]
    },
    {
      "cell_type": "markdown",
      "metadata": {
        "id": "8xW2qPCe_lDT",
        "colab_type": "text"
      },
      "source": [
        "## OPEN GOOGLE SHEETS"
      ]
    },
    {
      "cell_type": "code",
      "metadata": {
        "id": "gfr5Z8ZT5NNB",
        "colab_type": "code",
        "colab": {}
      },
      "source": [
        "from google.colab import auth\n",
        "auth.authenticate_user()"
      ],
      "execution_count": 0,
      "outputs": []
    },
    {
      "cell_type": "code",
      "metadata": {
        "id": "jSS9qT59_vUu",
        "colab_type": "code",
        "colab": {}
      },
      "source": [
        "from googleapiclient.discovery import build\n",
        "sheet_service = build('sheets', 'v4')"
      ],
      "execution_count": 0,
      "outputs": []
    },
    {
      "cell_type": "markdown",
      "metadata": {
        "id": "mfuH8ETf_0Qg",
        "colab_type": "text"
      },
      "source": [
        "## IMPORTS"
      ]
    },
    {
      "cell_type": "code",
      "metadata": {
        "id": "GB58EI_l_wXx",
        "colab_type": "code",
        "colab": {}
      },
      "source": [
        "import numpy as np\n",
        "import re\n",
        "\n",
        "import pandas as pd\n",
        "\n",
        "from fuzzywuzzy import fuzz\n",
        "from fuzzywuzzy import process"
      ],
      "execution_count": 0,
      "outputs": []
    },
    {
      "cell_type": "markdown",
      "metadata": {
        "id": "Yzqr9P9nFav0",
        "colab_type": "text"
      },
      "source": [
        "## OPEN FROM GOOGLE SHEET"
      ]
    },
    {
      "cell_type": "code",
      "metadata": {
        "id": "TmlXIbSK__ig",
        "colab_type": "code",
        "colab": {}
      },
      "source": [
        "RANGE_NAME = 'handicapees'\n",
        "gsheet = sheet_service.spreadsheets().values().get(spreadsheetId=ID, range=RANGE_NAME).execute()\n",
        "df_hand = pd.DataFrame(gsheet.get('values', [])[1:],columns= gsheet.get('values', [])[0:1][0])"
      ],
      "execution_count": 0,
      "outputs": []
    },
    {
      "cell_type": "code",
      "metadata": {
        "id": "jnlgTAeys4JA",
        "colab_type": "code",
        "colab": {
          "base_uri": "https://localhost:8080/",
          "height": 34
        },
        "outputId": "4c7ef21c-ca46-43bb-f162-9b5656466a6f"
      },
      "source": [
        "df_hand.shape"
      ],
      "execution_count": 49,
      "outputs": [
        {
          "output_type": "execute_result",
          "data": {
            "text/plain": [
              "(461, 50)"
            ]
          },
          "metadata": {
            "tags": []
          },
          "execution_count": 49
        }
      ]
    },
    {
      "cell_type": "markdown",
      "metadata": {
        "id": "X4FU9vtV5Cb_",
        "colab_type": "text"
      },
      "source": [
        "### PROCESS DATA"
      ]
    },
    {
      "cell_type": "markdown",
      "metadata": {
        "id": "JPHyG7Ng6SEi",
        "colab_type": "text"
      },
      "source": [
        "**Change age to integers**"
      ]
    },
    {
      "cell_type": "code",
      "metadata": {
        "id": "TmrsHBBM5Rix",
        "colab_type": "code",
        "colab": {}
      },
      "source": [
        "ages = df_hand['Age'].to_list()\n",
        "for i,age in enumerate(ages):\n",
        "  if age != \"\":\n",
        "    ages[i]=int(age)\n",
        "  else:\n",
        "    ages[i] = None"
      ],
      "execution_count": 0,
      "outputs": []
    },
    {
      "cell_type": "code",
      "metadata": {
        "id": "MPgXYAzw5FGl",
        "colab_type": "code",
        "colab": {}
      },
      "source": [
        "df_hand['Age']=ages"
      ],
      "execution_count": 0,
      "outputs": []
    },
    {
      "cell_type": "code",
      "metadata": {
        "id": "4WMuipt8EgbY",
        "colab_type": "code",
        "colab": {}
      },
      "source": [
        "df_hand['Nombre du form']=list(map(int,df_hand['Nombre du form'].to_list()))"
      ],
      "execution_count": 0,
      "outputs": []
    },
    {
      "cell_type": "markdown",
      "metadata": {
        "id": "8K6fIcFY6U4D",
        "colab_type": "text"
      },
      "source": [
        "**Convert profession into similar**"
      ]
    },
    {
      "cell_type": "code",
      "metadata": {
        "id": "VqGMP4Ye6Zgr",
        "colab_type": "code",
        "colab": {}
      },
      "source": [
        "words = [\"menagère\",\"Couturiere\",\"Revendeuse\",\"Forgeron\",\"Meunuisier\",\"Écolier\"]\n",
        "professions = df_hand['Profession'].to_list()\n",
        "for i,prof in enumerate(professions):\n",
        "  for word in words:\n",
        "    if fuzz.ratio(word, prof) >60:\n",
        "      professions[i]=word"
      ],
      "execution_count": 0,
      "outputs": []
    },
    {
      "cell_type": "code",
      "metadata": {
        "id": "1k9XObVO8p_W",
        "colab_type": "code",
        "colab": {}
      },
      "source": [
        "df_hand['Profession']=professions"
      ],
      "execution_count": 0,
      "outputs": []
    },
    {
      "cell_type": "code",
      "metadata": {
        "id": "kIEyyY6s8xv5",
        "colab_type": "code",
        "colab": {}
      },
      "source": [
        "professions_part = df_hand['Activites du partenaire'].to_list()\n",
        "for i,prof in enumerate(professions_part):\n",
        "  for word in words:\n",
        "    if fuzz.ratio(word, prof) >60:\n",
        "      professions_part[i]=word"
      ],
      "execution_count": 0,
      "outputs": []
    },
    {
      "cell_type": "code",
      "metadata": {
        "id": "Il3fj_oP84wi",
        "colab_type": "code",
        "colab": {}
      },
      "source": [
        "df_hand['Activites du partenaire']=professions_part"
      ],
      "execution_count": 0,
      "outputs": []
    },
    {
      "cell_type": "markdown",
      "metadata": {
        "id": "bipA0Hn8z1Dn",
        "colab_type": "text"
      },
      "source": [
        "### UPLOAD TO FIREBASE"
      ]
    },
    {
      "cell_type": "markdown",
      "metadata": {
        "id": "5sY6vLCkxcRT",
        "colab_type": "text"
      },
      "source": [
        "### Add images to firestore"
      ]
    },
    {
      "cell_type": "code",
      "metadata": {
        "id": "DL9eCloQ1QyD",
        "colab_type": "code",
        "colab": {}
      },
      "source": [
        "storage = firebase_admin.storage"
      ],
      "execution_count": 0,
      "outputs": []
    },
    {
      "cell_type": "code",
      "metadata": {
        "id": "72lg_gk52uNo",
        "colab_type": "code",
        "colab": {}
      },
      "source": [
        "bucket = storage.bucket(XXX)"
      ],
      "execution_count": 0,
      "outputs": []
    },
    {
      "cell_type": "markdown",
      "metadata": {
        "id": "-vEydKpr_dO4",
        "colab_type": "text"
      },
      "source": [
        "**I will upload only the important**"
      ]
    },
    {
      "cell_type": "code",
      "metadata": {
        "id": "TF1zsoKs9vC-",
        "colab_type": "code",
        "colab": {}
      },
      "source": [
        "handicapees = df_hand.to_dict('index')\n",
        "hand_dict = [{k: v} for k, v in handicapees.items()] \n",
        "for hand in hand_dict:\n",
        "  id_hand=list(hand.keys())[0]\n",
        "  handicape=hand[id_hand]\n",
        "  n_photo1=handicape['Photo 1']\n",
        "  n_photo2=handicape['Photo 2']\n",
        "  if((n_photo1 != \"\") and (n_photo1 is not None)):\n",
        "    photo1_blob = bucket.blob('phots_hand/'+n_photo1)\n",
        "    photo1_blob.upload_from_filename('Recensement/photos_hand/'+n_photo1)\n",
        "    photo1_blob.make_public()\n",
        "    photo1_url=photo1_blob.public_url\n",
        "\n",
        "    photo2_blob = bucket.blob('phots_hand/'+n_photo2)\n",
        "    photo2_blob.upload_from_filename('Recensement/photos_hand/'+n_photo2)\n",
        "    photo2_blob.make_public()\n",
        "    photo2_url=photo2_blob.public_url\n",
        "  else:\n",
        "    photo1_url=None\n",
        "    photo2_url=None\n",
        "  \n",
        "  new_data={'code':handicape['Nombre du form'],\n",
        "            'arrondisement': handicape['Arrondisement'],\n",
        "            'village':handicape['Village'],\n",
        "            'nom':handicape['Nom'],\n",
        "            'prenoms':handicape['Prénoms'],\n",
        "            'age':handicape['Age'],\n",
        "            'sex':handicape['Sex'],\n",
        "            'type':handicape['Type de Handicappées'],\n",
        "            'besoin_sociale':handicape['Besoin Sociale'],\n",
        "            'besoin_technique':handicape['Besoin Technique'],\n",
        "            'profession':handicape['Profession'],\n",
        "            'images':{\n",
        "                'image1':{\n",
        "                    'name':n_photo1,\n",
        "                    'url':photo1_url\n",
        "                          },\n",
        "                'image2':{\n",
        "                    'name':n_photo2,\n",
        "                    'url':photo2_url\n",
        "                         }\n",
        "                     }\n",
        "             }\n",
        "  db.collection(u'HandicapeesDB').add(new_data)"
      ],
      "execution_count": 0,
      "outputs": []
    },
    {
      "cell_type": "code",
      "metadata": {
        "id": "FSex590FiGnG",
        "colab_type": "code",
        "colab": {}
      },
      "source": [
        ""
      ],
      "execution_count": 0,
      "outputs": []
    }
  ]
}